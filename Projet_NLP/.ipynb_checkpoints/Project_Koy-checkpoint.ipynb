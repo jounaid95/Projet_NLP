{
 "cells": [
  {
   "cell_type": "markdown",
   "metadata": {},
   "source": [
    "## CORPUS AG NEWS"
   ]
  },
  {
   "cell_type": "markdown",
   "metadata": {},
   "source": [
    "### Parsing des fichiers"
   ]
  },
  {
   "cell_type": "code",
   "execution_count": 1,
   "metadata": {
    "ExecuteTime": {
     "end_time": "2018-10-25T12:48:36.030196Z",
     "start_time": "2018-10-25T12:48:35.759879Z"
    }
   },
   "outputs": [],
   "source": [
    "import pandas as pd"
   ]
  },
  {
   "cell_type": "code",
   "execution_count": 2,
   "metadata": {
    "ExecuteTime": {
     "end_time": "2018-10-25T12:48:37.294542Z",
     "start_time": "2018-10-25T12:48:36.883672Z"
    }
   },
   "outputs": [],
   "source": [
    "#Importation du fichier AG News - base apprentissage\n",
    "\n",
    "df_train = pd.read_csv(\"train.csv\",names=[\"class\", \"title\", \"content\"])"
   ]
  },
  {
   "cell_type": "code",
   "execution_count": 3,
   "metadata": {
    "ExecuteTime": {
     "end_time": "2018-10-25T12:48:38.624114Z",
     "start_time": "2018-10-25T12:48:38.599327Z"
    }
   },
   "outputs": [
    {
     "data": {
      "text/html": [
       "<div>\n",
       "<style scoped>\n",
       "    .dataframe tbody tr th:only-of-type {\n",
       "        vertical-align: middle;\n",
       "    }\n",
       "\n",
       "    .dataframe tbody tr th {\n",
       "        vertical-align: top;\n",
       "    }\n",
       "\n",
       "    .dataframe thead th {\n",
       "        text-align: right;\n",
       "    }\n",
       "</style>\n",
       "<table border=\"1\" class=\"dataframe\">\n",
       "  <thead>\n",
       "    <tr style=\"text-align: right;\">\n",
       "      <th></th>\n",
       "      <th>class</th>\n",
       "      <th>title</th>\n",
       "      <th>content</th>\n",
       "    </tr>\n",
       "  </thead>\n",
       "  <tbody>\n",
       "    <tr>\n",
       "      <th>0</th>\n",
       "      <td>3</td>\n",
       "      <td>Wall St. Bears Claw Back Into the Black (Reuters)</td>\n",
       "      <td>Reuters - Short-sellers, Wall Street's dwindli...</td>\n",
       "    </tr>\n",
       "    <tr>\n",
       "      <th>1</th>\n",
       "      <td>3</td>\n",
       "      <td>Carlyle Looks Toward Commercial Aerospace (Reu...</td>\n",
       "      <td>Reuters - Private investment firm Carlyle Grou...</td>\n",
       "    </tr>\n",
       "    <tr>\n",
       "      <th>2</th>\n",
       "      <td>3</td>\n",
       "      <td>Oil and Economy Cloud Stocks' Outlook (Reuters)</td>\n",
       "      <td>Reuters - Soaring crude prices plus worries\\ab...</td>\n",
       "    </tr>\n",
       "    <tr>\n",
       "      <th>3</th>\n",
       "      <td>3</td>\n",
       "      <td>Iraq Halts Oil Exports from Main Southern Pipe...</td>\n",
       "      <td>Reuters - Authorities have halted oil export\\f...</td>\n",
       "    </tr>\n",
       "    <tr>\n",
       "      <th>4</th>\n",
       "      <td>3</td>\n",
       "      <td>Oil prices soar to all-time record, posing new...</td>\n",
       "      <td>AFP - Tearaway world oil prices, toppling reco...</td>\n",
       "    </tr>\n",
       "  </tbody>\n",
       "</table>\n",
       "</div>"
      ],
      "text/plain": [
       "   class                                              title  \\\n",
       "0      3  Wall St. Bears Claw Back Into the Black (Reuters)   \n",
       "1      3  Carlyle Looks Toward Commercial Aerospace (Reu...   \n",
       "2      3    Oil and Economy Cloud Stocks' Outlook (Reuters)   \n",
       "3      3  Iraq Halts Oil Exports from Main Southern Pipe...   \n",
       "4      3  Oil prices soar to all-time record, posing new...   \n",
       "\n",
       "                                             content  \n",
       "0  Reuters - Short-sellers, Wall Street's dwindli...  \n",
       "1  Reuters - Private investment firm Carlyle Grou...  \n",
       "2  Reuters - Soaring crude prices plus worries\\ab...  \n",
       "3  Reuters - Authorities have halted oil export\\f...  \n",
       "4  AFP - Tearaway world oil prices, toppling reco...  "
      ]
     },
     "execution_count": 3,
     "metadata": {},
     "output_type": "execute_result"
    }
   ],
   "source": [
    "df_train.head()"
   ]
  },
  {
   "cell_type": "code",
   "execution_count": 4,
   "metadata": {
    "ExecuteTime": {
     "end_time": "2018-10-25T12:48:40.702123Z",
     "start_time": "2018-10-25T12:48:40.693151Z"
    }
   },
   "outputs": [],
   "source": [
    "classes = [\"World\", \"Sports\", \"Business\", \"Sci/Tech\"]"
   ]
  },
  {
   "cell_type": "code",
   "execution_count": 5,
   "metadata": {
    "ExecuteTime": {
     "end_time": "2018-10-25T12:48:41.172398Z",
     "start_time": "2018-10-25T12:48:41.113132Z"
    }
   },
   "outputs": [],
   "source": [
    "df_train[\"class\"] = df_train[\"class\"].apply(lambda x: classes[x - 1])"
   ]
  },
  {
   "cell_type": "code",
   "execution_count": 6,
   "metadata": {
    "ExecuteTime": {
     "end_time": "2018-10-25T12:48:41.507934Z",
     "start_time": "2018-10-25T12:48:41.492466Z"
    }
   },
   "outputs": [
    {
     "data": {
      "text/html": [
       "<div>\n",
       "<style scoped>\n",
       "    .dataframe tbody tr th:only-of-type {\n",
       "        vertical-align: middle;\n",
       "    }\n",
       "\n",
       "    .dataframe tbody tr th {\n",
       "        vertical-align: top;\n",
       "    }\n",
       "\n",
       "    .dataframe thead th {\n",
       "        text-align: right;\n",
       "    }\n",
       "</style>\n",
       "<table border=\"1\" class=\"dataframe\">\n",
       "  <thead>\n",
       "    <tr style=\"text-align: right;\">\n",
       "      <th></th>\n",
       "      <th>class</th>\n",
       "      <th>title</th>\n",
       "      <th>content</th>\n",
       "    </tr>\n",
       "  </thead>\n",
       "  <tbody>\n",
       "    <tr>\n",
       "      <th>0</th>\n",
       "      <td>Business</td>\n",
       "      <td>Wall St. Bears Claw Back Into the Black (Reuters)</td>\n",
       "      <td>Reuters - Short-sellers, Wall Street's dwindli...</td>\n",
       "    </tr>\n",
       "    <tr>\n",
       "      <th>1</th>\n",
       "      <td>Business</td>\n",
       "      <td>Carlyle Looks Toward Commercial Aerospace (Reu...</td>\n",
       "      <td>Reuters - Private investment firm Carlyle Grou...</td>\n",
       "    </tr>\n",
       "    <tr>\n",
       "      <th>2</th>\n",
       "      <td>Business</td>\n",
       "      <td>Oil and Economy Cloud Stocks' Outlook (Reuters)</td>\n",
       "      <td>Reuters - Soaring crude prices plus worries\\ab...</td>\n",
       "    </tr>\n",
       "    <tr>\n",
       "      <th>3</th>\n",
       "      <td>Business</td>\n",
       "      <td>Iraq Halts Oil Exports from Main Southern Pipe...</td>\n",
       "      <td>Reuters - Authorities have halted oil export\\f...</td>\n",
       "    </tr>\n",
       "    <tr>\n",
       "      <th>4</th>\n",
       "      <td>Business</td>\n",
       "      <td>Oil prices soar to all-time record, posing new...</td>\n",
       "      <td>AFP - Tearaway world oil prices, toppling reco...</td>\n",
       "    </tr>\n",
       "  </tbody>\n",
       "</table>\n",
       "</div>"
      ],
      "text/plain": [
       "      class                                              title  \\\n",
       "0  Business  Wall St. Bears Claw Back Into the Black (Reuters)   \n",
       "1  Business  Carlyle Looks Toward Commercial Aerospace (Reu...   \n",
       "2  Business    Oil and Economy Cloud Stocks' Outlook (Reuters)   \n",
       "3  Business  Iraq Halts Oil Exports from Main Southern Pipe...   \n",
       "4  Business  Oil prices soar to all-time record, posing new...   \n",
       "\n",
       "                                             content  \n",
       "0  Reuters - Short-sellers, Wall Street's dwindli...  \n",
       "1  Reuters - Private investment firm Carlyle Grou...  \n",
       "2  Reuters - Soaring crude prices plus worries\\ab...  \n",
       "3  Reuters - Authorities have halted oil export\\f...  \n",
       "4  AFP - Tearaway world oil prices, toppling reco...  "
      ]
     },
     "execution_count": 6,
     "metadata": {},
     "output_type": "execute_result"
    }
   ],
   "source": [
    "df_train.head()"
   ]
  },
  {
   "cell_type": "code",
   "execution_count": 7,
   "metadata": {},
   "outputs": [
    {
     "data": {
      "text/plain": [
       "Business    30000\n",
       "Sci/Tech    30000\n",
       "Sports      30000\n",
       "World       30000\n",
       "Name: class, dtype: int64"
      ]
     },
     "execution_count": 7,
     "metadata": {},
     "output_type": "execute_result"
    }
   ],
   "source": [
    "df_train[\"class\"].value_counts()"
   ]
  },
  {
   "cell_type": "code",
   "execution_count": 8,
   "metadata": {},
   "outputs": [
    {
     "data": {
      "text/html": [
       "<div>\n",
       "<style scoped>\n",
       "    .dataframe tbody tr th:only-of-type {\n",
       "        vertical-align: middle;\n",
       "    }\n",
       "\n",
       "    .dataframe tbody tr th {\n",
       "        vertical-align: top;\n",
       "    }\n",
       "\n",
       "    .dataframe thead th {\n",
       "        text-align: right;\n",
       "    }\n",
       "</style>\n",
       "<table border=\"1\" class=\"dataframe\">\n",
       "  <thead>\n",
       "    <tr style=\"text-align: right;\">\n",
       "      <th></th>\n",
       "      <th>class</th>\n",
       "      <th>title</th>\n",
       "      <th>content</th>\n",
       "    </tr>\n",
       "  </thead>\n",
       "  <tbody>\n",
       "    <tr>\n",
       "      <th>count</th>\n",
       "      <td>120000</td>\n",
       "      <td>120000</td>\n",
       "      <td>120000</td>\n",
       "    </tr>\n",
       "    <tr>\n",
       "      <th>unique</th>\n",
       "      <td>4</td>\n",
       "      <td>114364</td>\n",
       "      <td>118731</td>\n",
       "    </tr>\n",
       "    <tr>\n",
       "      <th>top</th>\n",
       "      <td>Business</td>\n",
       "      <td>Transactions</td>\n",
       "      <td>With the economy slowly turning up, upgrading ...</td>\n",
       "    </tr>\n",
       "    <tr>\n",
       "      <th>freq</th>\n",
       "      <td>30000</td>\n",
       "      <td>39</td>\n",
       "      <td>15</td>\n",
       "    </tr>\n",
       "  </tbody>\n",
       "</table>\n",
       "</div>"
      ],
      "text/plain": [
       "           class         title  \\\n",
       "count     120000        120000   \n",
       "unique         4        114364   \n",
       "top     Business  Transactions   \n",
       "freq       30000            39   \n",
       "\n",
       "                                                  content  \n",
       "count                                              120000  \n",
       "unique                                             118731  \n",
       "top     With the economy slowly turning up, upgrading ...  \n",
       "freq                                                   15  "
      ]
     },
     "execution_count": 8,
     "metadata": {},
     "output_type": "execute_result"
    }
   ],
   "source": [
    "df_train.describe()"
   ]
  },
  {
   "cell_type": "code",
   "execution_count": 9,
   "metadata": {},
   "outputs": [],
   "source": [
    "import matplotlib.pyplot as plt"
   ]
  },
  {
   "cell_type": "code",
   "execution_count": 10,
   "metadata": {},
   "outputs": [
    {
     "data": {
      "image/png": "[encoded data removed]",
      "text/plain": [
       "<Figure size 432x288 with 1 Axes>"
      ]
     },
     "metadata": {
      "needs_background": "light"
     },
     "output_type": "display_data"
    }
   ],
   "source": [
    "df_train[\"content\"].apply(lambda x: len(x.split())).hist(bins=20, color = '#EE6666',edgecolor='#E6E6E6', grid=False)\n",
    "plt.xlabel('longueur')\n",
    "plt.ylabel('occurence')\n",
    "plt.title(\"Répartition de la longueur des articles en mots\");"
   ]
  },
  {
   "cell_type": "markdown",
   "metadata": {},
   "source": [
    "On stocke les classes dans une liste `y`, puis à concaténer le titre et le contenu de chaque article pour former chaque document.\n",
    "\n",
    "Pour cette dernière opération, on peut utiliser les opérations directes entre `Series` (colonne d'une `DataFrame`) et valeurs scalaires."
   ]
  },
  {
   "cell_type": "code",
   "execution_count": 11,
   "metadata": {
    "ExecuteTime": {
     "end_time": "2018-10-25T12:48:43.821109Z",
     "start_time": "2018-10-25T12:48:43.810925Z"
    }
   },
   "outputs": [],
   "source": [
    "y = df_train[\"class\"].tolist()"
   ]
  },
  {
   "cell_type": "code",
   "execution_count": 12,
   "metadata": {
    "ExecuteTime": {
     "end_time": "2018-10-25T12:48:44.227937Z",
     "start_time": "2018-10-25T12:48:44.218362Z"
    }
   },
   "outputs": [
    {
     "data": {
      "text/plain": [
       "(120000, (120000, 3))"
      ]
     },
     "execution_count": 12,
     "metadata": {},
     "output_type": "execute_result"
    }
   ],
   "source": [
    "len(y), df_train.shape"
   ]
  },
  {
   "cell_type": "code",
   "execution_count": 13,
   "metadata": {
    "ExecuteTime": {
     "end_time": "2018-10-25T12:48:45.070683Z",
     "start_time": "2018-10-25T12:48:44.964610Z"
    }
   },
   "outputs": [],
   "source": [
    "documents = (df_train[\"title\"] + \" \" + df_train[\"content\"]).tolist()"
   ]
  },
  {
   "cell_type": "code",
   "execution_count": 14,
   "metadata": {
    "ExecuteTime": {
     "end_time": "2018-10-25T12:48:45.818422Z",
     "start_time": "2018-10-25T12:48:45.803751Z"
    }
   },
   "outputs": [
    {
     "data": {
      "text/plain": [
       "[\"Wall St. Bears Claw Back Into the Black (Reuters) Reuters - Short-sellers, Wall Street's dwindling\\\\band of ultra-cynics, are seeing green again.\",\n",
       " 'Carlyle Looks Toward Commercial Aerospace (Reuters) Reuters - Private investment firm Carlyle Group,\\\\which has a reputation for making well-timed and occasionally\\\\controversial plays in the defense industry, has quietly placed\\\\its bets on another part of the market.',\n",
       " \"Oil and Economy Cloud Stocks' Outlook (Reuters) Reuters - Soaring crude prices plus worries\\\\about the economy and the outlook for earnings are expected to\\\\hang over the stock market next week during the depth of the\\\\summer doldrums.\",\n",
       " 'Iraq Halts Oil Exports from Main Southern Pipeline (Reuters) Reuters - Authorities have halted oil export\\\\flows from the main pipeline in southern Iraq after\\\\intelligence showed a rebel militia could strike\\\\infrastructure, an oil official said on Saturday.']"
      ]
     },
     "execution_count": 14,
     "metadata": {},
     "output_type": "execute_result"
    }
   ],
   "source": [
    "documents[:4]"
   ]
  },
  {
   "cell_type": "markdown",
   "metadata": {},
   "source": [
    "On voit qu'il reste des doubles slash arrière (`\"\\\\\"`). On peut simplement les remplacer en utilisant la fonction `.replace()` sur chaque élément de la liste `documents`. \n",
    "Ce sera implémenté dans la fonction parse directement avec tous les caractères de ponctuation à ignorer."
   ]
  },
  {
   "cell_type": "code",
   "execution_count": 15,
   "metadata": {
    "ExecuteTime": {
     "end_time": "2018-10-25T12:48:48.193202Z",
     "start_time": "2018-10-25T12:48:48.163155Z"
    }
   },
   "outputs": [],
   "source": [
    "documents = [d.replace(\"\\\\\", \" \") for d in documents]"
   ]
  },
  {
   "cell_type": "code",
   "execution_count": 16,
   "metadata": {
    "ExecuteTime": {
     "end_time": "2018-10-25T12:48:48.578768Z",
     "start_time": "2018-10-25T12:48:48.572606Z"
    }
   },
   "outputs": [
    {
     "data": {
      "text/plain": [
       "[\"Wall St. Bears Claw Back Into the Black (Reuters) Reuters - Short-sellers, Wall Street's dwindling band of ultra-cynics, are seeing green again.\",\n",
       " 'Carlyle Looks Toward Commercial Aerospace (Reuters) Reuters - Private investment firm Carlyle Group, which has a reputation for making well-timed and occasionally controversial plays in the defense industry, has quietly placed its bets on another part of the market.',\n",
       " \"Oil and Economy Cloud Stocks' Outlook (Reuters) Reuters - Soaring crude prices plus worries about the economy and the outlook for earnings are expected to hang over the stock market next week during the depth of the summer doldrums.\",\n",
       " 'Iraq Halts Oil Exports from Main Southern Pipeline (Reuters) Reuters - Authorities have halted oil export flows from the main pipeline in southern Iraq after intelligence showed a rebel militia could strike infrastructure, an oil official said on Saturday.']"
      ]
     },
     "execution_count": 16,
     "metadata": {},
     "output_type": "execute_result"
    }
   ],
   "source": [
    "documents[:4]"
   ]
  },
  {
   "cell_type": "code",
   "execution_count": 17,
   "metadata": {},
   "outputs": [],
   "source": [
    "from collections import Counter\n",
    "import nltk\n",
    "from nltk.tokenize import sent_tokenize, word_tokenize\n",
    "from nltk.util import ngrams"
   ]
  },
  {
   "cell_type": "code",
   "execution_count": 18,
   "metadata": {},
   "outputs": [],
   "source": [
    "def parse(document):\n",
    "    # On commence par passer tout le texte en minuscules\n",
    "    document = document.lower()\n",
    "    # Puis chaque élément de ponctuation va être supprimé (on remplace ici par une chaîne vide).\n",
    "    ignorechars = [\",\", \".\", \"-\", \";\", \":\", \"?\", \"!\", \"/\", \"'\", \"\\n\", \"\\t\", \"\\\\\"]\n",
    "    for p in ignorechars:\n",
    "        document = document.replace(p, \"\")\n",
    "    # Tokenisation sur les espaces\n",
    "    tokens = document.split()\n",
    "    # Filtrage des tokens contenant autre chose que des lettres et des stopwords.\n",
    "    tokens = [tok for tok in tokens\\\n",
    "              if tok.isalpha() and tok not in stopwords]\n",
    "    for x in document:\n",
    "        bigrams= ngrams(tokens,2)\n",
    "    # Transformation en \"histogramme\" {mot: compte} avec la classe `Counter`.       \n",
    "    return Counter(tokens)"
   ]
  },
  {
   "cell_type": "code",
   "execution_count": 19,
   "metadata": {},
   "outputs": [],
   "source": [
    "def parsewithbigram(document):\n",
    "    # On commence par passer tout le texte en minuscules\n",
    "    document = document.lower()\n",
    "    # Puis chaque élément de ponctuation va être supprimé (on remplace ici par une chaîne vide).\n",
    "    ignorechars = [\",\", \".\", \"-\", \";\", \":\", \"?\", \"!\", \"/\", \"'\", \"\\n\", \"\\t\", \"\\\\\"]\n",
    "    for p in ignorechars:\n",
    "        document = document.replace(p, \"\")\n",
    "    # Tokenisation sur les espaces\n",
    "    tokens = document.split()\n",
    "    # Filtrage des tokens contenant autre chose que des lettres et des stopwords.\n",
    "    tokens = [tok for tok in tokens\\\n",
    "              if tok.isalpha() and tok not in stopwords]\n",
    "    for x in document:\n",
    "        bigrams= ngrams(tokens,2)\n",
    "    # Transformation en \"histogramme\" {mot: compte} avec la classe `Counter`.       \n",
    "    return Counter(bigrams)"
   ]
  },
  {
   "cell_type": "markdown",
   "metadata": {},
   "source": [
    "### Vectorisation\n",
    "\n",
    "On pourra utiliser les stopwords anglais de NLTK. "
   ]
  },
  {
   "cell_type": "code",
   "execution_count": 20,
   "metadata": {
    "ExecuteTime": {
     "end_time": "2018-10-25T12:48:50.948822Z",
     "start_time": "2018-10-25T12:48:50.495282Z"
    }
   },
   "outputs": [],
   "source": [
    "from nltk.corpus import stopwords\n",
    "\n",
    "stopwords = stopwords.words(\"english\")"
   ]
  },
  {
   "cell_type": "code",
   "execution_count": null,
   "metadata": {
    "ExecuteTime": {
     "end_time": "2018-10-25T12:48:59.985870Z",
     "start_time": "2018-10-25T12:48:52.118887Z"
    }
   },
   "outputs": [],
   "source": [
    "histograms = [parse(d) for d in documents]"
   ]
  },
  {
   "cell_type": "code",
   "execution_count": null,
   "metadata": {},
   "outputs": [],
   "source": [
    "from sklearn.feature_extraction import DictVectorizer"
   ]
  },
  {
   "cell_type": "code",
   "execution_count": null,
   "metadata": {},
   "outputs": [],
   "source": [
    "def vectorize(histograms):\n",
    "    vectorizer = DictVectorizer()\n",
    "    return vectorizer.fit_transform(histograms), vectorizer.feature_names_"
   ]
  },
  {
   "cell_type": "code",
   "execution_count": 85,
   "metadata": {
    "ExecuteTime": {
     "end_time": "2018-10-25T12:49:02.558394Z",
     "start_time": "2018-10-25T12:48:59.987587Z"
    }
   },
   "outputs": [],
   "source": [
    "X, feature_names = vectorize(histograms)"
   ]
  },
  {
   "cell_type": "code",
   "execution_count": 73,
   "metadata": {
    "ExecuteTime": {
     "end_time": "2018-10-25T12:49:02.565842Z",
     "start_time": "2018-10-25T12:49:02.560336Z"
    }
   },
   "outputs": [
    {
     "data": {
      "text/plain": [
       "(120000, 76646)"
      ]
     },
     "execution_count": 73,
     "metadata": {},
     "output_type": "execute_result"
    }
   ],
   "source": [
    "X.shape"
   ]
  },
  {
   "cell_type": "markdown",
   "metadata": {},
   "source": [
    "### Utilisation de scikit-learn\n",
    "\n",
    "On va utiliser la classe [TruncatedSVD](http://scikit-learn.org/stable/modules/generated/sklearn.decomposition.TruncatedSVD.html#sklearn.decomposition.TruncatedSVD) de scikit-learn, qui fait le calcul de SVD de manière plus rapide.\n",
    "\n",
    "Il suffit de d'initialiser une instance de la classe et d'appeler la méthode `.fit_transform()` avec notre matrice X en argument."
   ]
  },
  {
   "cell_type": "code",
   "execution_count": null,
   "metadata": {
    "ExecuteTime": {
     "end_time": "2018-10-25T12:49:05.901621Z",
     "start_time": "2018-10-25T12:49:05.867546Z"
    }
   },
   "outputs": [],
   "source": [
    "from sklearn.decomposition import TruncatedSVD"
   ]
  },
  {
   "cell_type": "code",
   "execution_count": null,
   "metadata": {
    "ExecuteTime": {
     "end_time": "2018-10-25T12:49:42.264059Z",
     "start_time": "2018-10-25T12:49:06.715387Z"
    }
   },
   "outputs": [],
   "source": [
    "svd_transformer = TruncatedSVD(n_components=200)\n",
    "Xk = svd_transformer.fit_transform(X)"
   ]
  },
  {
   "cell_type": "markdown",
   "metadata": {},
   "source": [
    "Comparer la dimension des matrices X et Xk et commenter."
   ]
  },
  {
   "cell_type": "code",
   "execution_count": 38,
   "metadata": {
    "ExecuteTime": {
     "end_time": "2018-10-25T12:49:42.274728Z",
     "start_time": "2018-10-25T12:49:42.266520Z"
    }
   },
   "outputs": [
    {
     "data": {
      "text/plain": [
       "((120000, 59245), (120000, 200))"
      ]
     },
     "execution_count": 38,
     "metadata": {},
     "output_type": "execute_result"
    }
   ],
   "source": [
    "X.shape, Xk.shape"
   ]
  },
  {
   "cell_type": "markdown",
   "metadata": {},
   "source": [
    "`TruncatedSVD` ne renvoit donc qu'une seule matrice $X_k$ au lieu de trois matrices $U_k$, $\\Sigma_k$ et $V_k^\\top$. Ce n'est pas grave car ce qui nous intéresse dans un pipeline de traitement est bien la matrice $X_k$.\n",
    "\n",
    "De plus, on peut passer d'une formulation à l'autre puisque :\n",
    "* $X_k = U_k \\Sigma_k$\n",
    "* les valeurs de la diagonale de $\\Sigma_k$ sont stockées dans le membre `singular_values_` de `TruncatedSVD`\n",
    "* la matrice $V_k^\\top$ est stockée dans le membre `components_` de `TruncatedSVD`\n",
    "\n",
    "Cette différence d'implémentation et d'utilisation est expliquée en détails dans la [documentation de scikit-learn](http://scikit-learn.org/stable/modules/decomposition.html#lsa)."
   ]
  },
  {
   "cell_type": "markdown",
   "metadata": {},
   "source": [
    "### Classification\n",
    "\n",
    "On peut maintenant brancher notre pipeline à un classifieur.\n",
    "\n",
    "Reprendre la fonction `classify_and_evaluate()` et l'appliquer à `X` et `y` ci-dessous."
   ]
  },
  {
   "cell_type": "code",
   "execution_count": 39,
   "metadata": {
    "ExecuteTime": {
     "end_time": "2018-10-25T12:49:42.441651Z",
     "start_time": "2018-10-25T12:49:42.276893Z"
    }
   },
   "outputs": [
    {
     "name": "stderr",
     "output_type": "stream",
     "text": [
      "/home/clement/dev/research_env/virtualenv/lib/python3.4/site-packages/sklearn/cross_validation.py:41: DeprecationWarning: This module was deprecated in version 0.18 in favor of the model_selection module into which all the refactored classes and functions are moved. Also note that the interface of the new CV iterators are different from that of this module. This module will be removed in 0.20.\n",
      "  \"This module will be removed in 0.20.\", DeprecationWarning)\n"
     ]
    }
   ],
   "source": [
    "from sklearn.naive_bayes import MultinomialNB \n",
    "from sklearn.cross_validation import cross_val_predict\n",
    "from sklearn.metrics import classification_report\n",
    "\n",
    "def classify_and_evaluate(X, y):\n",
    "    cls = MultinomialNB()\n",
    "    predictions = cross_val_predict(cls, X, y)\n",
    "    print(\"Nombre d'erreurs :\", len([(truth, prediction)\\\n",
    "                                     for truth, prediction in zip(y, predictions)\\\n",
    "                                     if truth != prediction]), end=\"\\n\\n\")\n",
    "    print(classification_report(y, predictions))"
   ]
  },
  {
   "cell_type": "code",
   "execution_count": 40,
   "metadata": {
    "ExecuteTime": {
     "end_time": "2018-10-25T12:49:43.419793Z",
     "start_time": "2018-10-25T12:49:42.444638Z"
    }
   },
   "outputs": [
    {
     "name": "stdout",
     "output_type": "stream",
     "text": [
      "Nombre d'erreurs : 13018\n",
      "\n",
      "             precision    recall  f1-score   support\n",
      "\n",
      "   Business       0.86      0.85      0.85     30000\n",
      "   Sci/Tech       0.85      0.86      0.86     30000\n",
      "     Sports       0.95      0.97      0.96     30000\n",
      "      World       0.91      0.88      0.90     30000\n",
      "\n",
      "avg / total       0.89      0.89      0.89    120000\n",
      "\n"
     ]
    }
   ],
   "source": [
    "classify_and_evaluate(X, y)"
   ]
  },
  {
   "cell_type": "markdown",
   "metadata": {},
   "source": [
    "On voit que la classe la mieux reconnue est `\"Sports\"`. On pourrait essayer de visualiser la matrice de confusion pour en savoir plus (quelles classes se confondent avec les autres...)."
   ]
  },
  {
   "cell_type": "markdown",
   "metadata": {},
   "source": [
    "### Visualisation des mots les plus importants\n",
    "\n",
    "On va visualiser en deux dimensions les 50 mots les plus importants, ainsi que 50 articles tirés au hasard pour les classes `\"Sports\"` et `\"Sci/Tech\"`.\n",
    "\n",
    "Pour cela, exécuter les cellules ci-dessous."
   ]
  },
  {
   "cell_type": "code",
   "execution_count": 41,
   "metadata": {
    "ExecuteTime": {
     "end_time": "2018-10-25T12:50:00.705069Z",
     "start_time": "2018-10-25T12:49:50.205598Z"
    }
   },
   "outputs": [],
   "source": [
    "# On utilise le même type de filtrage que vu plus pour supprimer plus de colonnes (donc de mots).\n",
    "X, feature_names = vectorize(map(parse, documents))\n",
    "keeping = (X.sum(axis=0) > 3).A.ravel()\n",
    "X = X[:,keeping]\n",
    "# On peut utiliser le vecteur de booléens `keeping` pour construire la liste des mots gardés.\n",
    "# C'est facile puisque `keeping` et `feature_names` sont alignés, c'est-à-dire que ce sont des listes\n",
    "# de même taille, stockant des informations sur les mêmes choses dans le même ordre, par construction.\n",
    "kept_features = [f_name for f_name, keep in zip(feature_names, keeping) if keep]"
   ]
  },
  {
   "cell_type": "code",
   "execution_count": 42,
   "metadata": {
    "ExecuteTime": {
     "end_time": "2018-10-25T12:50:00.911026Z",
     "start_time": "2018-10-25T12:50:00.706372Z"
    }
   },
   "outputs": [],
   "source": [
    "# Normalisation TF.IDF ; on utilise l'option `norm=False` pour faciliter la visualisation plus tard.\n",
    "X = TfidfTransformer(norm=False).fit_transform(X)"
   ]
  },
  {
   "cell_type": "code",
   "execution_count": 43,
   "metadata": {
    "ExecuteTime": {
     "end_time": "2018-10-25T12:50:00.993052Z",
     "start_time": "2018-10-25T12:50:00.918196Z"
    }
   },
   "outputs": [],
   "source": [
    "# On filtre sur les classes qui nous intéressent. Pour cela, on utilise la fonction python `enumerate` qui,\n",
    "# lorsqu'on l'applique sur un itérable, renvoit les tuples formés de l'indice et de la valeur. C'est utile\n",
    "# pour différents types de filtrages.\n",
    "# Ici, on construit donc avec une compréhension de liste la liste des indices des labels qui nous intéressent.\n",
    "# Cette liste d'indices va ensuite servir à filtrer la matrice `X`.\n",
    "kept_rows = [i for i, elem in enumerate(y) if elem in [\"Sci/Tech\", \"Sports\"]]\n",
    "y = [y[i] for i in kept_rows]\n",
    "X = X[kept_rows]"
   ]
  },
  {
   "cell_type": "code",
   "execution_count": 44,
   "metadata": {
    "ExecuteTime": {
     "end_time": "2018-10-25T12:50:00.997410Z",
     "start_time": "2018-10-25T12:50:00.994630Z"
    }
   },
   "outputs": [],
   "source": [
    "import numpy as np"
   ]
  },
  {
   "cell_type": "code",
   "execution_count": 45,
   "metadata": {
    "ExecuteTime": {
     "end_time": "2018-10-25T12:50:01.012905Z",
     "start_time": "2018-10-25T12:50:00.999228Z"
    }
   },
   "outputs": [],
   "source": [
    "# Calcul des mots les plus représentés : on considère que ce sont les plus présents dans l'ensemble du corpus.\n",
    "# On les obtient donc simplement en sommant `X` sur les colonnes, puis en les triant.\n",
    "# Ici `np.agrsort` fait bien un tri, mais au lieu de renvoyer les valeurs, renvoie les indices correspondant aux\n",
    "# valeurs. Ce tri est un tri croissant, on récupère dont les indices correspondant aux 50 mots les plus représentés\n",
    "# (= plus grosse somme) en prenant les 50 derniers.\n",
    "best_words_idx = np.argsort(X.sum(axis=0).A.ravel())[-50:]\n",
    "# Ce vecteur d'indices nous permet ensuite de récupérer les meilleurs mots, vu que `kept_features` est aligné avec\n",
    "# les colonnes de la matrice `X`.\n",
    "best_words = [kept_features[i] for i in best_words_idx]"
   ]
  },
  {
   "cell_type": "code",
   "execution_count": 46,
   "metadata": {
    "ExecuteTime": {
     "end_time": "2018-10-25T12:50:18.867605Z",
     "start_time": "2018-10-25T12:50:01.014968Z"
    }
   },
   "outputs": [],
   "source": [
    "# Transformation LSA\n",
    "svd_transformer = TruncatedSVD(n_components=200)\n",
    "Xk = svd_transformer.fit_transform(X)"
   ]
  },
  {
   "cell_type": "code",
   "execution_count": 47,
   "metadata": {
    "ExecuteTime": {
     "end_time": "2018-10-25T12:50:18.872556Z",
     "start_time": "2018-10-25T12:50:18.869228Z"
    }
   },
   "outputs": [
    {
     "data": {
      "text/plain": [
       "(60000, 200)"
      ]
     },
     "execution_count": 47,
     "metadata": {},
     "output_type": "execute_result"
    }
   ],
   "source": [
    "Xk.shape"
   ]
  },
  {
   "cell_type": "code",
   "execution_count": 48,
   "metadata": {
    "ExecuteTime": {
     "end_time": "2018-10-25T12:50:19.678156Z",
     "start_time": "2018-10-25T12:50:18.875139Z"
    }
   },
   "outputs": [
    {
     "data": {
      "image/png": "[encoded data removed]",
      "text/plain": [
       "<matplotlib.figure.Figure at 0x7f396ca7c518>"
      ]
     },
     "metadata": {},
     "output_type": "display_data"
    }
   ],
   "source": [
    "# Visualisation\n",
    "fig, ax = plt.subplots()\n",
    "fig.set_size_inches(15, 12)\n",
    "\n",
    "# On sélectionne 50 articles au hasard\n",
    "import random\n",
    "random_lines = random.sample(range(X.shape[0]), 50)\n",
    "\n",
    "x_doc, y_doc = (Xk[:,1:3] * (1. / svd_transformer.singular_values_[1:3]))[random_lines].T\n",
    "labels_selected_articles = [y[i] for i in random_lines]\n",
    "\n",
    "for topic in set(labels_selected_articles):\n",
    "    x_doc_ = [x_doc[i] for i, e in enumerate(labels_selected_articles) if e == topic]\n",
    "    y_doc_ = [y_doc[i] for i, e in enumerate(labels_selected_articles) if e == topic]\n",
    "    ax.scatter(x_doc_, y_doc_, alpha=0.5, label=\"Articles topic \" + topic)\n",
    "\n",
    "ax.set_ylim(top=0.2, bottom=-0.2)\n",
    "ax.set_xlim(right=0.2, left=-0.15)\n",
    "\n",
    "x_term, y_term = svd_transformer.components_[1:3,best_words_idx]\n",
    "ax.scatter(x_term, y_term, c=\"g\", alpha=0.5, label=\"Words\")\n",
    "for x_, y_, s in zip(x_term, y_term, best_words):\n",
    "    if x_ >= ax.get_xlim()[0] and x_ <= ax.get_xlim()[1] and y_ >= ax.get_ylim()[0] and y_ <= ax.get_ylim()[1]:\n",
    "        ax.text(x_ + 0.002, y_ - 0.002, s, fontsize=12)\n",
    "\n",
    "ax.grid()\n",
    "ax.legend(fontsize=15, loc=0)\n",
    "ax.set_xlabel(\"Dimension 2\")\n",
    "ax.set_ylabel(\"Dimension 3\")\n",
    "ax.set_title(\"Visualisation dans l'espace projeté\");"
   ]
  },
  {
   "cell_type": "markdown",
   "metadata": {},
   "source": [
    "On voit que la plupart des mots sont alignés sur un axe qui va du plus \"sportif\" en haut à gauche, au plus \"tech\" en bas à droite."
   ]
  },
  {
   "cell_type": "code",
   "execution_count": 49,
   "metadata": {
    "ExecuteTime": {
     "end_time": "2018-10-25T12:50:20.304390Z",
     "start_time": "2018-10-25T12:50:19.679793Z"
    }
   },
   "outputs": [
    {
     "data": {
      "image/png": "[encoded data removed]",
      "text/plain": [
       "<matplotlib.figure.Figure at 0x7f396ca35cc0>"
      ]
     },
     "metadata": {},
     "output_type": "display_data"
    }
   ],
   "source": [
    "# Visualisation\n",
    "fig, ax = plt.subplots()\n",
    "fig.set_size_inches(15, 12)\n",
    "\n",
    "# On sélectionne 50 articles au hasard\n",
    "import random\n",
    "random_lines = random.sample(range(X.shape[0]), 50)\n",
    "\n",
    "x_doc, y_doc = (Xk[:,1:3] * (1. / svd_transformer.singular_values_[1:3]))[random_lines].T\n",
    "labels_selected_articles = [y[i] for i in random_lines]\n",
    "\n",
    "for topic in set(labels_selected_articles):\n",
    "    x_doc_ = [x_doc[i] for i, e in enumerate(labels_selected_articles) if e == topic]\n",
    "    y_doc_ = [y_doc[i] for i, e in enumerate(labels_selected_articles) if e == topic]\n",
    "    ax.scatter(x_doc_, y_doc_, alpha=0.5, label=\"Articles topic \" + topic)\n",
    "\n",
    "ax.set_ylim(top=0.05, bottom=-0.05)\n",
    "ax.set_xlim(right=0.05, left=-0.05)\n",
    "\n",
    "x_term, y_term = svd_transformer.components_[1:3,best_words_idx]\n",
    "ax.scatter(x_term, y_term, c=\"g\", alpha=0.5, label=\"Words\")\n",
    "for x_, y_, s in zip(x_term, y_term, best_words):\n",
    "    if x_ >= ax.get_xlim()[0] and x_ <= ax.get_xlim()[1] and y_ >= ax.get_ylim()[0] and y_ <= ax.get_ylim()[1]:\n",
    "        ax.text(x_ + 0.002, y_ - 0.002, s, fontsize=12)\n",
    "\n",
    "ax.grid()\n",
    "ax.legend(fontsize=15, loc=0)\n",
    "ax.set_xlabel(\"Dimension 2\")\n",
    "ax.set_ylabel(\"Dimension 3\")\n",
    "ax.set_title(\"Visualisation dans l'espace projeté\");"
   ]
  },
  {
   "cell_type": "markdown",
   "metadata": {},
   "source": [
    "## CORPUS BROWN"
   ]
  },
  {
   "cell_type": "code",
   "execution_count": 177,
   "metadata": {},
   "outputs": [],
   "source": [
    "#Importation du corpus Brown\n",
    "brown_corpus = pd.read_json(\"brown_corpus.json\")"
   ]
  },
  {
   "cell_type": "code",
   "execution_count": 178,
   "metadata": {},
   "outputs": [
    {
     "data": {
      "text/html": [
       "<div>\n",
       "<style scoped>\n",
       "    .dataframe tbody tr th:only-of-type {\n",
       "        vertical-align: middle;\n",
       "    }\n",
       "\n",
       "    .dataframe tbody tr th {\n",
       "        vertical-align: top;\n",
       "    }\n",
       "\n",
       "    .dataframe thead th {\n",
       "        text-align: right;\n",
       "    }\n",
       "</style>\n",
       "<table border=\"1\" class=\"dataframe\">\n",
       "  <thead>\n",
       "    <tr style=\"text-align: right;\">\n",
       "      <th></th>\n",
       "      <th>category</th>\n",
       "      <th>id</th>\n",
       "      <th>text</th>\n",
       "    </tr>\n",
       "  </thead>\n",
       "  <tbody>\n",
       "    <tr>\n",
       "      <th>0</th>\n",
       "      <td>adventure</td>\n",
       "      <td>cn01</td>\n",
       "      <td>\\n\\n\\tDan Morgan told himself he would forget ...</td>\n",
       "    </tr>\n",
       "    <tr>\n",
       "      <th>1</th>\n",
       "      <td>adventure</td>\n",
       "      <td>cn02</td>\n",
       "      <td>\\n\\n\\tGavin paused wearily. ``You can't stay h...</td>\n",
       "    </tr>\n",
       "    <tr>\n",
       "      <th>2</th>\n",
       "      <td>adventure</td>\n",
       "      <td>cn03</td>\n",
       "      <td>\\n\\n\\tThe sentry was not dead. He was, in fact...</td>\n",
       "    </tr>\n",
       "    <tr>\n",
       "      <th>3</th>\n",
       "      <td>adventure</td>\n",
       "      <td>cn04</td>\n",
       "      <td>\\n\\n\\t``So it wasn't the earthquake that made ...</td>\n",
       "    </tr>\n",
       "    <tr>\n",
       "      <th>4</th>\n",
       "      <td>adventure</td>\n",
       "      <td>cn05</td>\n",
       "      <td>She was carrying a quirt, and she started to r...</td>\n",
       "    </tr>\n",
       "  </tbody>\n",
       "</table>\n",
       "</div>"
      ],
      "text/plain": [
       "    category    id                                               text\n",
       "0  adventure  cn01  \\n\\n\\tDan Morgan told himself he would forget ...\n",
       "1  adventure  cn02  \\n\\n\\tGavin paused wearily. ``You can't stay h...\n",
       "2  adventure  cn03  \\n\\n\\tThe sentry was not dead. He was, in fact...\n",
       "3  adventure  cn04  \\n\\n\\t``So it wasn't the earthquake that made ...\n",
       "4  adventure  cn05  She was carrying a quirt, and she started to r..."
      ]
     },
     "execution_count": 178,
     "metadata": {},
     "output_type": "execute_result"
    }
   ],
   "source": [
    "brown_corpus.head()"
   ]
  },
  {
   "cell_type": "code",
   "execution_count": null,
   "metadata": {},
   "outputs": [],
   "source": [
    "brown_corpus.describe()"
   ]
  },
  {
   "cell_type": "code",
   "execution_count": 180,
   "metadata": {},
   "outputs": [
    {
     "data": {
      "image/png": "[encoded data removed]",
      "text/plain": [
       "<Figure size 432x288 with 1 Axes>"
      ]
     },
     "metadata": {},
     "output_type": "display_data"
    }
   ],
   "source": [
    "brown_corpus[\"category\"].value_counts(ascending=True).plot(kind=\"barh\")\n",
    "plt.title(\"Répartition des classes du corpus Brown\");"
   ]
  },
  {
   "cell_type": "code",
   "execution_count": null,
   "metadata": {},
   "outputs": [],
   "source": [
    "y = brown_corpus[\"category\"].tolist()"
   ]
  },
  {
   "cell_type": "code",
   "execution_count": null,
   "metadata": {},
   "outputs": [],
   "source": [
    "len(y), df_train.shape"
   ]
  },
  {
   "cell_type": "code",
   "execution_count": 209,
   "metadata": {},
   "outputs": [],
   "source": [
    "docs = brown_corpus[\"text\"].tolist()"
   ]
  },
  {
   "cell_type": "code",
   "execution_count": 210,
   "metadata": {},
   "outputs": [
    {
     "data": {
      "text/plain": [
       "list"
      ]
     },
     "execution_count": 210,
     "metadata": {},
     "output_type": "execute_result"
    }
   ],
   "source": [
    "type(docs)"
   ]
  },
  {
   "cell_type": "code",
   "execution_count": 203,
   "metadata": {},
   "outputs": [],
   "source": [
    "#docs[:1]"
   ]
  },
  {
   "cell_type": "code",
   "execution_count": 204,
   "metadata": {},
   "outputs": [
    {
     "ename": "TypeError",
     "evalue": "argument of type 'WordListCorpusReader' is not iterable",
     "output_type": "error",
     "traceback": [
      "\u001b[1;31m---------------------------------------------------------------------------\u001b[0m",
      "\u001b[1;31mTypeError\u001b[0m                                 Traceback (most recent call last)",
      "\u001b[1;32m<ipython-input-204-46a7f2273255>\u001b[0m in \u001b[0;36m<module>\u001b[1;34m()\u001b[0m\n\u001b[1;32m----> 1\u001b[1;33m \u001b[0mhistograms\u001b[0m \u001b[1;33m=\u001b[0m \u001b[1;33m[\u001b[0m\u001b[0mparse\u001b[0m\u001b[1;33m(\u001b[0m\u001b[0md\u001b[0m\u001b[1;33m)\u001b[0m \u001b[1;32mfor\u001b[0m \u001b[0md\u001b[0m \u001b[1;32min\u001b[0m \u001b[0mdocs\u001b[0m\u001b[1;33m]\u001b[0m\u001b[1;33m\u001b[0m\u001b[0m\n\u001b[0m",
      "\u001b[1;32m<ipython-input-204-46a7f2273255>\u001b[0m in \u001b[0;36m<listcomp>\u001b[1;34m(.0)\u001b[0m\n\u001b[1;32m----> 1\u001b[1;33m \u001b[0mhistograms\u001b[0m \u001b[1;33m=\u001b[0m \u001b[1;33m[\u001b[0m\u001b[0mparse\u001b[0m\u001b[1;33m(\u001b[0m\u001b[0md\u001b[0m\u001b[1;33m)\u001b[0m \u001b[1;32mfor\u001b[0m \u001b[0md\u001b[0m \u001b[1;32min\u001b[0m \u001b[0mdocs\u001b[0m\u001b[1;33m]\u001b[0m\u001b[1;33m\u001b[0m\u001b[0m\n\u001b[0m",
      "\u001b[1;32m<ipython-input-111-13d3691d56ae>\u001b[0m in \u001b[0;36mparse\u001b[1;34m(document)\u001b[0m\n\u001b[0;32m      9\u001b[0m     \u001b[0mtokens\u001b[0m \u001b[1;33m=\u001b[0m \u001b[0mdocument\u001b[0m\u001b[1;33m.\u001b[0m\u001b[0msplit\u001b[0m\u001b[1;33m(\u001b[0m\u001b[1;33m)\u001b[0m\u001b[1;33m\u001b[0m\u001b[0m\n\u001b[0;32m     10\u001b[0m     \u001b[1;31m# Filtrage des tokens contenant autre chose que des lettres et des stopwords.\u001b[0m\u001b[1;33m\u001b[0m\u001b[1;33m\u001b[0m\u001b[0m\n\u001b[1;32m---> 11\u001b[1;33m     \u001b[0mtokens\u001b[0m \u001b[1;33m=\u001b[0m \u001b[1;33m[\u001b[0m\u001b[0mtok\u001b[0m \u001b[1;32mfor\u001b[0m \u001b[0mtok\u001b[0m \u001b[1;32min\u001b[0m \u001b[0mtokens\u001b[0m              \u001b[1;32mif\u001b[0m \u001b[0mtok\u001b[0m\u001b[1;33m.\u001b[0m\u001b[0misalpha\u001b[0m\u001b[1;33m(\u001b[0m\u001b[1;33m)\u001b[0m \u001b[1;32mand\u001b[0m \u001b[0mtok\u001b[0m \u001b[1;32mnot\u001b[0m \u001b[1;32min\u001b[0m \u001b[0mstopwords\u001b[0m\u001b[1;33m]\u001b[0m\u001b[1;33m\u001b[0m\u001b[0m\n\u001b[0m\u001b[0;32m     12\u001b[0m     \u001b[1;32mfor\u001b[0m \u001b[0mx\u001b[0m \u001b[1;32min\u001b[0m \u001b[0mdocument\u001b[0m\u001b[1;33m:\u001b[0m\u001b[1;33m\u001b[0m\u001b[0m\n\u001b[0;32m     13\u001b[0m         \u001b[0mbigrams\u001b[0m\u001b[1;33m=\u001b[0m \u001b[0mngrams\u001b[0m\u001b[1;33m(\u001b[0m\u001b[0mtokens\u001b[0m\u001b[1;33m,\u001b[0m\u001b[1;36m2\u001b[0m\u001b[1;33m)\u001b[0m\u001b[1;33m\u001b[0m\u001b[0m\n",
      "\u001b[1;32m<ipython-input-111-13d3691d56ae>\u001b[0m in \u001b[0;36m<listcomp>\u001b[1;34m(.0)\u001b[0m\n\u001b[0;32m      9\u001b[0m     \u001b[0mtokens\u001b[0m \u001b[1;33m=\u001b[0m \u001b[0mdocument\u001b[0m\u001b[1;33m.\u001b[0m\u001b[0msplit\u001b[0m\u001b[1;33m(\u001b[0m\u001b[1;33m)\u001b[0m\u001b[1;33m\u001b[0m\u001b[0m\n\u001b[0;32m     10\u001b[0m     \u001b[1;31m# Filtrage des tokens contenant autre chose que des lettres et des stopwords.\u001b[0m\u001b[1;33m\u001b[0m\u001b[1;33m\u001b[0m\u001b[0m\n\u001b[1;32m---> 11\u001b[1;33m     \u001b[0mtokens\u001b[0m \u001b[1;33m=\u001b[0m \u001b[1;33m[\u001b[0m\u001b[0mtok\u001b[0m \u001b[1;32mfor\u001b[0m \u001b[0mtok\u001b[0m \u001b[1;32min\u001b[0m \u001b[0mtokens\u001b[0m              \u001b[1;32mif\u001b[0m \u001b[0mtok\u001b[0m\u001b[1;33m.\u001b[0m\u001b[0misalpha\u001b[0m\u001b[1;33m(\u001b[0m\u001b[1;33m)\u001b[0m \u001b[1;32mand\u001b[0m \u001b[0mtok\u001b[0m \u001b[1;32mnot\u001b[0m \u001b[1;32min\u001b[0m \u001b[0mstopwords\u001b[0m\u001b[1;33m]\u001b[0m\u001b[1;33m\u001b[0m\u001b[0m\n\u001b[0m\u001b[0;32m     12\u001b[0m     \u001b[1;32mfor\u001b[0m \u001b[0mx\u001b[0m \u001b[1;32min\u001b[0m \u001b[0mdocument\u001b[0m\u001b[1;33m:\u001b[0m\u001b[1;33m\u001b[0m\u001b[0m\n\u001b[0;32m     13\u001b[0m         \u001b[0mbigrams\u001b[0m\u001b[1;33m=\u001b[0m \u001b[0mngrams\u001b[0m\u001b[1;33m(\u001b[0m\u001b[0mtokens\u001b[0m\u001b[1;33m,\u001b[0m\u001b[1;36m2\u001b[0m\u001b[1;33m)\u001b[0m\u001b[1;33m\u001b[0m\u001b[0m\n",
      "\u001b[1;31mTypeError\u001b[0m: argument of type 'WordListCorpusReader' is not iterable"
     ]
    }
   ],
   "source": [
    "histograms = [parse(d) for d in docs]"
   ]
  },
  {
   "cell_type": "code",
   "execution_count": 205,
   "metadata": {},
   "outputs": [
    {
     "ename": "AttributeError",
     "evalue": "'str' object has no attribute 'transform'",
     "output_type": "error",
     "traceback": [
      "\u001b[1;31m---------------------------------------------------------------------------\u001b[0m",
      "\u001b[1;31mAttributeError\u001b[0m                            Traceback (most recent call last)",
      "\u001b[1;32m<ipython-input-205-2e8712a3ba11>\u001b[0m in \u001b[0;36m<module>\u001b[1;34m()\u001b[0m\n\u001b[1;32m----> 1\u001b[1;33m \u001b[0mmatrix_brown\u001b[0m \u001b[1;33m=\u001b[0m \u001b[0mp\u001b[0m\u001b[1;33m.\u001b[0m\u001b[0mtransform\u001b[0m\u001b[1;33m(\u001b[0m\u001b[0mbrown_corpus\u001b[0m\u001b[1;33m.\u001b[0m\u001b[0mtext\u001b[0m\u001b[1;33m.\u001b[0m\u001b[0mtolist\u001b[0m\u001b[1;33m(\u001b[0m\u001b[1;33m)\u001b[0m\u001b[1;33m)\u001b[0m\u001b[1;33m\u001b[0m\u001b[0m\n\u001b[0m\u001b[0;32m      2\u001b[0m \u001b[0mpredictions\u001b[0m \u001b[1;33m=\u001b[0m \u001b[0mcls\u001b[0m\u001b[1;33m.\u001b[0m\u001b[0mpredict\u001b[0m\u001b[1;33m(\u001b[0m\u001b[0mmatrix_brown\u001b[0m\u001b[1;33m)\u001b[0m\u001b[1;33m\u001b[0m\u001b[0m\n",
      "\u001b[1;31mAttributeError\u001b[0m: 'str' object has no attribute 'transform'"
     ]
    }
   ],
   "source": [
    "matrix_brown = p.transform(brown_corpus.text.tolist())\n",
    "predictions = cls.predict(matrix_brown)"
   ]
  },
  {
   "cell_type": "code",
   "execution_count": null,
   "metadata": {},
   "outputs": [],
   "source": []
  }
 ],
 "metadata": {
  "kernelspec": {
   "display_name": "Python 3",
   "language": "python",
   "name": "python3"
  },
  "language_info": {
   "codemirror_mode": {
    "name": "ipython",
    "version": 3
   },
   "file_extension": ".py",
   "mimetype": "text/x-python",
   "name": "python",
   "nbconvert_exporter": "python",
   "pygments_lexer": "ipython3",
   "version": "3.5.6"
  },
  "toc": {
   "nav_menu": {},
   "number_sections": true,
   "sideBar": true,
   "skip_h1_title": false,
   "title_cell": "Table of Contents",
   "title_sidebar": "Contents",
   "toc_cell": false,
   "toc_position": {},
   "toc_section_display": true,
   "toc_window_display": true
  }
 },
 "nbformat": 4,
 "nbformat_minor": 2
}
